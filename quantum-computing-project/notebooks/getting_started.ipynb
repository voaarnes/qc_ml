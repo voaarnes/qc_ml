{
 "cells": [
  {
   "cell_type": "markdown",
   "metadata": {},
   "source": [
    "# Quantum Computing Project - Getting Started\n",
    "\n",
    "This notebook demonstrates the basic usage of the quantum computing project."
   ]
  },
  {
   "cell_type": "code",
   "execution_count": null,
   "metadata": {},
   "outputs": [],
   "source": [
    "import sys\n",
    "sys.path.append('..')\n",
    "\n",
    "from src.backends import BackendManager\n",
    "from src.circuits import QuantumCircuitBuilder, CircuitTemplates\n",
    "from src.algorithms import VQE\n",
    "import matplotlib.pyplot as plt\n",
    "%matplotlib inline"
   ]
  },
  {
   "cell_type": "markdown",
   "metadata": {},
   "source": [
    "## 1. Backend Management"
   ]
  },
  {
   "cell_type": "code",
   "execution_count": null,
   "metadata": {},
   "outputs": [],
   "source": [
    "# Initialize backend manager\n",
    "backend_manager = BackendManager()\n",
    "\n",
    "# List available backends\n",
    "print(\"Available backends:\")\n",
    "for backend in backend_manager.list_backends():\n",
    "    print(f\"  - {backend}\")"
   ]
  },
  {
   "cell_type": "markdown",
   "metadata": {},
   "source": [
    "## 2. Building Quantum Circuits"
   ]
  },
  {
   "cell_type": "code",
   "execution_count": null,
   "metadata": {},
   "outputs": [],
   "source": [
    "# Create a Bell state using the circuit builder\n",
    "builder = QuantumCircuitBuilder(num_qubits=2)\n",
    "bell_circuit = (builder\n",
    "                .add_hadamard(0)\n",
    "                .add_cnot(0, 1)\n",
    "                .add_measurement()\n",
    "                .build())\n",
    "\n",
    "# Draw the circuit\n",
    "bell_circuit.draw('mpl')"
   ]
  },
  {
   "cell_type": "code",
   "execution_count": null,
   "metadata": {},
   "outputs": [],
   "source": [
    "# Run the circuit\n",
    "result = backend_manager.run_circuit(bell_circuit, shots=1000)\n",
    "counts = result.get_counts()\n",
    "\n",
    "print(\"Bell state measurement results:\")\n",
    "for state, count in counts.items():\n",
    "    print(f\"  |{state}⟩: {count}\")"
   ]
  },
  {
   "cellype": "markdown",
   "metadata": {},
   "source": [
    "## 3. Using Circuit Templates"
   ]
  },
  {
   "cell_type": "code",
   "execution_count": null,
   "metadata": {},
   "outputs": [],
   "source": [
    "# Create a GHZ state\n",
    "ghz_circuit = CircuitTemplates.ghz_state(n_qubits=4)\n",
    "ghz_circuit.draw('mpl')"
   ]
  },
  {
   "cell_type": "code",
   "execution_count": null,
   "metadata": {},
   "outputs": [],
   "source": [
    "# Run GHZ circuit\n",
    "result = backend_manager.run_circuit(ghz_circuit, shots=1000)\n",
    "counts = result.get_counts()\n",
    "\n",
    "# Plot results\n",
    "from qiskit.visualization import plot_histogram\n",
    "plot_histogram(counts)"
   ]
  },
  {
   "cell_type": "markdown",
   "metadata": {},
   "source": [
    "## 4. Variational Quantum Eigensolver (VQE)"
   ]
  },
  {
   "cell_type": "code",
   "execution_count": null,
   "metadata": {},
   "outputs": [],
   "source": [
    "# Create H2 Hamiltonian and run VQE\n",
    "from src.algorithms.vqe import VQE\n",
    "\n",
    "hamiltonian = VQE.create_h2_hamiltonian()\n",
    "ansatz = CircuitTemplates.variational_ansatz(2, depth=2)\n",
    "\n",
    "vqe = VQE(hamiltonian, ansatz, optimizer=\"COBYLA\")\n",
    "result = vqe.run()\n",
    "\n",
    "print(f\"Ground state energy: {result['energy']:.6f} Hartree\")"
   ]
  },
  {
   "cell_type": "code",
   "execution_count": null,
   "metadata": {},
   "outputs": [],
   "source": [
    "# Plot convergence\n",
    "plt.figure(figsize=(10, 6))\n",
    "plt.plot(result['energy_history'])\n",
    "plt.xlabel('Iteration')\n",
    "plt.ylabel('Energy (Hartree)')\n",
    "plt.title('VQE Convergence')\n",
    "plt.grid(True)\n",
    "plt.show()"
   ]
  }
 ],
 "metadata": {
  "kernelspec": {
   "display_name": "Python 3",
   "language": "python",
   "name": "python3"
  },
  "language_info": {
   "codemirror_mode": {
    "name": "ipython",
    "version": 3
   },
   "file_extension": ".py",
   "mimetype": "text/x-python",
   "name": "python",
   "nbconvert_exporter": "python",
   "pygments_lexer": "ipython3",
   "version": "3.9.0"
  }
 },
 "nbformat": 4,
 "nbformat_minor": 4
}
